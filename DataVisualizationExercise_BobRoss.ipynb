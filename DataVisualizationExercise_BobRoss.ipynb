{
  "nbformat": 4,
  "nbformat_minor": 0,
  "metadata": {
    "colab": {
      "name": "DataVisualizationExercise_BobRoss.ipynb",
      "provenance": [],
      "mount_file_id": "15o4vBxLHYHH3qeAz-ukxrlIrm0unr2hR",
      "authorship_tag": "ABX9TyMCCm3XuoZ+xfwc2z7PN99e",
      "include_colab_link": true
    },
    "kernelspec": {
      "name": "python3",
      "display_name": "Python 3"
    },
    "language_info": {
      "name": "python"
    }
  },
  "cells": [
    {
      "cell_type": "markdown",
      "metadata": {
        "id": "view-in-github",
        "colab_type": "text"
      },
      "source": [
        "<a href=\"https://colab.research.google.com/github/bd-hedstrom/mountainsVsTrees_BobRossProject/blob/main/DataVisualizationExercise_BobRoss.ipynb\" target=\"_parent\"><img src=\"https://colab.research.google.com/assets/colab-badge.svg\" alt=\"Open In Colab\"/></a>"
      ]
    },
    {
      "cell_type": "code",
      "metadata": {
        "id": "0g4TZY3kYwi5"
      },
      "source": [
        "import numpy as np\n",
        "import pandas as pd\n",
        "import seaborn as sns\n",
        "import matplotlib.pyplot as plt"
      ],
      "execution_count": null,
      "outputs": []
    },
    {
      "cell_type": "code",
      "metadata": {
        "colab": {
          "base_uri": "https://localhost:8080/"
        },
        "id": "EYS0_MBvbiHL",
        "outputId": "38b5d7b2-1425-4987-c8b4-761fc6fe79eb"
      },
      "source": [
        "filename = '/content/Copy of BobRossRawData - BobRossRawData.csv'\n",
        "raw_ross_data = pd.read_csv(filename)\n",
        "raw_ross_data.info()"
      ],
      "execution_count": null,
      "outputs": [
        {
          "output_type": "stream",
          "name": "stdout",
          "text": [
            "<class 'pandas.core.frame.DataFrame'>\n",
            "RangeIndex: 27001 entries, 0 to 27000\n",
            "Data columns (total 4 columns):\n",
            " #   Column    Non-Null Count  Dtype \n",
            "---  ------    --------------  ----- \n",
            " 0   Element   27001 non-null  object\n",
            " 1   Episode   27001 non-null  object\n",
            " 2   Title     27001 non-null  object\n",
            " 3   Included  27001 non-null  int64 \n",
            "dtypes: int64(1), object(3)\n",
            "memory usage: 843.9+ KB\n"
          ]
        }
      ]
    },
    {
      "cell_type": "code",
      "metadata": {
        "colab": {
          "base_uri": "https://localhost:8080/",
          "height": 294
        },
        "id": "7eIVVUx5cmL1",
        "outputId": "cce7d1ab-7b90-4e77-a86a-ec6597a78456"
      },
      "source": [
        "mountain_filter = raw_ross_data['Element']=='Mountain'\n",
        "tree_filter = raw_ross_data['Element']=='Tree'\n",
        "included_filter = raw_ross_data['Included']==1\n",
        "\n",
        "mountain_included = raw_ross_data.loc[mountain_filter & included_filter]\n",
        "mountain_count_data = mountain_included['Element'].count()\n",
        "\n",
        "tree_included = raw_ross_data.loc[tree_filter]\n",
        "tree_count_data = tree_included['Element'].count()\n",
        "labels = ['Mountain','Tree']\n",
        "plt.bar(labels,[mountain_count_data, tree_count_data],color=['b','g']);\n",
        "plt.title('Ultimate Countdown: Trees vs. Mountains in Bob Ross Painting Series');\n",
        "plt.xlabel('Element')\n",
        "plt.ylabel('Appearance in Painting');\n"
      ],
      "execution_count": null,
      "outputs": [
        {
          "output_type": "display_data",
          "data": {
            "image/png": "[encoded data removed]",
            "text/plain": [
              "<Figure size 432x288 with 1 Axes>"
            ]
          },
          "metadata": {
            "needs_background": "light"
          }
        }
      ]
    },
    {
      "cell_type": "code",
      "metadata": {
        "id": "Sg4Y7qM2j2mX"
      },
      "source": [
        ""
      ],
      "execution_count": null,
      "outputs": []
    }
  ]
}